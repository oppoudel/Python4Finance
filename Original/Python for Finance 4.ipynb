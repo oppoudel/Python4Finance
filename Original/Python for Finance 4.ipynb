{
 "cells": [
  {
   "cell_type": "code",
   "execution_count": 49,
   "metadata": {},
   "outputs": [],
   "source": [
    "# Provides ways to work with large multidimensional arrays\n",
    "import numpy as np \n",
    "# Allows for further data manipulation and analysis\n",
    "import pandas as pd\n",
    "from pandas_datareader import data as web # Reads stock data \n",
    "import matplotlib.pyplot as plt # Plotting\n",
    "import matplotlib.dates as mdates # Styling dates\n",
    "%matplotlib inline\n",
    "\n",
    "import datetime as dt # For defining dates\n",
    "import mplfinance as mpf # Matplotlib finance\n",
    "\n",
    "import time\n",
    "\n",
    "# Used to get data from a directory\n",
    "import os\n",
    "from os import listdir\n",
    "from os.path import isfile, join"
   ]
  },
  {
   "cell_type": "markdown",
   "metadata": {},
   "source": [
    "## Dates & Other Constants"
   ]
  },
  {
   "cell_type": "code",
   "execution_count": 50,
   "metadata": {},
   "outputs": [],
   "source": [
    "# Define path to files\n",
    "# For MacOS\n",
    "PATH = \"/Users/oppoudel/dev/Python4Finance/Stocks/\"\n",
    "# For Windows\n",
    "# PATH = \"D:/Python for Finance/Stocks/\"\n",
    "\n",
    "# Start date defaults\n",
    "S_YEAR = 2017\n",
    "S_MONTH = 1\n",
    "S_DAY = 3\n",
    "S_DATE_STR = \"2017-01-03\"\n",
    "S_DATE_DATETIME = dt.datetime(S_YEAR, S_MONTH, S_DAY)\n",
    "\n",
    "# End date defaults\n",
    "E_YEAR = 2021\n",
    "E_MONTH = 8\n",
    "E_DAY = 19\n",
    "E_DATE_STR = \"2021-08-19\"\n",
    "E_DATE_DATETIME = dt.datetime(E_YEAR, E_MONTH, E_DAY)"
   ]
  },
  {
   "cell_type": "markdown",
   "metadata": {},
   "source": [
    "## Get Stock File Names in a List"
   ]
  },
  {
   "cell_type": "code",
   "execution_count": 51,
   "metadata": {},
   "outputs": [],
   "source": [
    "files = [x for x in listdir(PATH) if isfile(join(PATH, x))]\n",
    "tickers = [os.path.splitext(x)[0] for x in files]\n",
    "tickers\n",
    "\n",
    "# On MacOS Only\n",
    "tickers.sort()"
   ]
  },
  {
   "cell_type": "markdown",
   "metadata": {},
   "source": [
    "## Function that Returns a Dataframe from a CSV"
   ]
  },
  {
   "cell_type": "code",
   "execution_count": 52,
   "metadata": {},
   "outputs": [],
   "source": [
    "def get_df_from_csv(ticker):\n",
    "    try:\n",
    "        df = pd.read_csv(PATH + ticker + '.csv')\n",
    "    except FileNotFoundError:\n",
    "        pass\n",
    "        # print(\"File Doesn't Exist\")\n",
    "    else:\n",
    "        return df"
   ]
  },
  {
   "cell_type": "markdown",
   "metadata": {},
   "source": [
    "## Function that Saves Dataframe to CSV"
   ]
  },
  {
   "cell_type": "code",
   "execution_count": 53,
   "metadata": {},
   "outputs": [],
   "source": [
    "def save_dataframe_to_csv(df, ticker):\n",
    "    df.to_csv(PATH + ticker + '.csv')"
   ]
  },
  {
   "cell_type": "markdown",
   "metadata": {},
   "source": [
    "## Return 1st Valid Date in Dataframe"
   ]
  },
  {
   "cell_type": "code",
   "execution_count": 54,
   "metadata": {},
   "outputs": [],
   "source": [
    "def get_valid_dates(df, sdate, edate):  \n",
    "    try:\n",
    "        mask = (df['Date'] > sdate) & (df['Date'] <= edate) \n",
    "        sm_df = df.loc[mask]\n",
    "        sm_df = sm_df.set_index(['Date'])\n",
    "        sm_date = sm_df.index.min()\n",
    "        last_date = sm_df.index.max()\n",
    "        date_leading = '-'.join(('0' if len(x)<2 else '')+x for x in sm_date.split('-'))\n",
    "        date_ending = '-'.join(('0' if len(x)<2 else '')+x for x in last_date.split('-'))\n",
    "    except Exception:\n",
    "        print(\"Date Corrupted\")\n",
    "    else:\n",
    "        return date_leading, date_ending"
   ]
  },
  {
   "cell_type": "markdown",
   "metadata": {},
   "source": [
    "## Returns Return on Investment over Time"
   ]
  },
  {
   "cell_type": "code",
   "execution_count": 55,
   "metadata": {},
   "outputs": [],
   "source": [
    "def roi_between_dates(df, sdate, edate):\n",
    "    try: \n",
    "        start_val = df.loc[sdate,'Adj Close'] \n",
    "        end_val = df.loc[edate,'Adj Close']\n",
    "        roi = ((end_val - start_val) / start_val)\n",
    "    except Exception:\n",
    "        print(\"Data Corrupted\")\n",
    "    else:\n",
    "        return roi"
   ]
  },
  {
   "cell_type": "markdown",
   "metadata": {},
   "source": [
    "## Get Mean Between Dates"
   ]
  },
  {
   "cell_type": "code",
   "execution_count": 56,
   "metadata": {},
   "outputs": [],
   "source": [
    "def get_mean_between_dates(df, sdate, edate):\n",
    "    mask = (df['Date'] > sdate) & (df['Date'] <= edate)\n",
    "    return df.loc[mask][\"Adj Close\"].mean()"
   ]
  },
  {
   "cell_type": "markdown",
   "metadata": {},
   "source": [
    "## Get Standard Deviation Between Dates"
   ]
  },
  {
   "cell_type": "code",
   "execution_count": 57,
   "metadata": {},
   "outputs": [],
   "source": [
    "def get_sd_between_dates(df, sdate, edate):\n",
    "    mask = (df['Date'] > sdate) & (df['Date'] <= edate)\n",
    "    return df.loc[mask][\"Adj Close\"].std()"
   ]
  },
  {
   "cell_type": "markdown",
   "metadata": {},
   "source": [
    "## Get Coefficient of Variation Between Dates"
   ]
  },
  {
   "cell_type": "code",
   "execution_count": 58,
   "metadata": {},
   "outputs": [],
   "source": [
    "def get_cov_between_dates(df, sdate, edate):\n",
    "    mean = get_mean_between_dates(df, sdate, edate)\n",
    "    sd = get_sd_between_dates(df, sdate, edate)\n",
    "    return sd / mean"
   ]
  },
  {
   "cell_type": "markdown",
   "metadata": {},
   "source": [
    "## Merge Multiple Stocks in One Dataframe by Column Name"
   ]
  },
  {
   "cell_type": "code",
   "execution_count": 59,
   "metadata": {},
   "outputs": [],
   "source": [
    "def merge_df_by_column_name(col_name, sdate, edate, *tickers):\n",
    "    # Will hold data for all dataframes with the same column name\n",
    "    mult_df = pd.DataFrame()\n",
    "    \n",
    "    for x in tickers:\n",
    "        df = get_df_from_csv(x)\n",
    "        df['Date'] = pd.to_datetime(df['Date'])\n",
    "        # Use a mask to grab data between defined dates\n",
    "        mask = (df['Date'] >= sdate) & (df['Date'] <= edate)\n",
    "        mult_df[x] = df.loc[mask][col_name]\n",
    "        \n",
    "    return mult_df"
   ]
  },
  {
   "cell_type": "markdown",
   "metadata": {},
   "source": [
    "## 11 Stock Market Sectors"
   ]
  },
  {
   "cell_type": "markdown",
   "metadata": {},
   "source": [
    "**Technology** : Manufacturing of electronics, software, or related to information technology \n",
    "\n",
    "**Health Care** : Biotech, hospitals, medical devices, drugs \n",
    "\n",
    "**Financials** : Banks, investment funds, and insurance\n",
    "\n",
    "**Real Estate** : Residential, industrial, and retail real estate \n",
    "\n",
    "**Energy** : Production and supply of energy \n",
    "\n",
    "**Materials** : Mining, refining, chemical, and forestry \n",
    "\n",
    "**Consumer Discretionary** : Retailers, apparel, media, durables and services \n",
    "\n",
    "**Industrials** : Construction, machinery, fabrication, manufacturing, defense, and aerospace \n",
    "\n",
    "**Utilities** : Direct providers of electric, gas, and water \n",
    "\n",
    "**Consumer Staples** : Food, beverage as well as products consumers deem essential \n",
    "\n",
    "**Telecommunication** : Cable, internet providers, wireless, and satellite"
   ]
  },
  {
   "cell_type": "markdown",
   "metadata": {},
   "source": [
    "## Get Sector Stocks"
   ]
  },
  {
   "cell_type": "code",
   "execution_count": 60,
   "metadata": {},
   "outputs": [],
   "source": [
    "# For Windows\n",
    "# sec_df = pd.read_csv('D:/Python for Finance/stock_sectors.csv')\n",
    "# For Mac\n",
    "sec_df = pd.read_csv('/Users/oppoudel/dev/Python4Finance/stock_sectors.csv')\n",
    "sec_df\n",
    "\n",
    "# Get Industrials DF\n",
    "indus_df = sec_df.loc[sec_df['Sector'] == \"Industrials\"]\n",
    "health_df = sec_df.loc[sec_df['Sector'] == \"Health Care\"]\n",
    "it_df = sec_df.loc[sec_df['Sector'] == \"Information Technology\"]\n",
    "comm_df = sec_df.loc[sec_df['Sector'] == \"Communication Services\"]\n",
    "staple_df = sec_df.loc[sec_df['Sector'] == \"Consumer Staples\"]\n",
    "discretion_df = sec_df.loc[sec_df['Sector'] == \"Consumer Discretionary\"]\n",
    "utility_df = sec_df.loc[sec_df['Sector'] == \"Utilities\"]\n",
    "financial_df = sec_df.loc[sec_df['Sector'] == \"Financials\"]\n",
    "material_df = sec_df.loc[sec_df['Sector'] == \"Materials\"]\n",
    "restate_df = sec_df.loc[sec_df['Sector'] == \"Real Estate\"]\n",
    "energy_df = sec_df.loc[sec_df['Sector'] == \"Energy\"]\n"
   ]
  },
  {
   "cell_type": "markdown",
   "metadata": {},
   "source": [
    "## Returns a DF with ROIs for all Stocks"
   ]
  },
  {
   "cell_type": "code",
   "execution_count": 92,
   "metadata": {},
   "outputs": [],
   "source": [
    "def get_rois_for_stocks(stock_df):\n",
    "    # Will hold all tickers & stock rois\n",
    "    tickers = []\n",
    "    rois = []\n",
    "\n",
    "    # iterrows provides the index and column for each row in the DF\n",
    "    for index, row in stock_df.iterrows():\n",
    "        df = get_df_from_csv(row['Symbol'])\n",
    "    \n",
    "        # If we can't find the ticker delete it from the dataframe\n",
    "        if df is None:\n",
    "            stock_df = stock_df.drop(index)\n",
    "        else:\n",
    "            tickers.append(row['Symbol'])\n",
    "            sdate, edate = get_valid_dates(df, '2021-01-01', '2021-12-31')\n",
    "            df = df.set_index(['Date'])\n",
    "            roi = roi_between_dates(df, sdate, edate)\n",
    "            rois.append(roi)\n",
    "    return pd.DataFrame({'Ticker':tickers, 'ROI':rois})"
   ]
  },
  {
   "cell_type": "code",
   "execution_count": 93,
   "metadata": {},
   "outputs": [],
   "source": [
    "industrial = get_rois_for_stocks(indus_df)\n",
    "health_care = get_rois_for_stocks(health_df)\n",
    "it = get_rois_for_stocks(it_df)\n",
    "commun = get_rois_for_stocks(comm_df)\n",
    "staple = get_rois_for_stocks(staple_df)\n",
    "discretion = get_rois_for_stocks(discretion_df)\n",
    "utility = get_rois_for_stocks(utility_df)\n",
    "finance = get_rois_for_stocks(financial_df)\n",
    "material = get_rois_for_stocks(material_df)\n",
    "restate = get_rois_for_stocks(restate_df)\n",
    "energy = get_rois_for_stocks(energy_df)"
   ]
  },
  {
   "cell_type": "markdown",
   "metadata": {},
   "source": [
    "## Top Industrials"
   ]
  },
  {
   "cell_type": "code",
   "execution_count": 95,
   "metadata": {},
   "outputs": [
    {
     "data": {
      "text/html": [
       "<div>\n",
       "<style scoped>\n",
       "    .dataframe tbody tr th:only-of-type {\n",
       "        vertical-align: middle;\n",
       "    }\n",
       "\n",
       "    .dataframe tbody tr th {\n",
       "        vertical-align: top;\n",
       "    }\n",
       "\n",
       "    .dataframe thead th {\n",
       "        text-align: right;\n",
       "    }\n",
       "</style>\n",
       "<table border=\"1\" class=\"dataframe\">\n",
       "  <thead>\n",
       "    <tr style=\"text-align: right;\">\n",
       "      <th></th>\n",
       "      <th>Ticker</th>\n",
       "      <th>ROI</th>\n",
       "    </tr>\n",
       "  </thead>\n",
       "  <tbody>\n",
       "    <tr>\n",
       "      <th>24</th>\n",
       "      <td>GNRC</td>\n",
       "      <td>0.744968</td>\n",
       "    </tr>\n",
       "    <tr>\n",
       "      <th>48</th>\n",
       "      <td>RHI</td>\n",
       "      <td>0.676882</td>\n",
       "    </tr>\n",
       "    <tr>\n",
       "      <th>34</th>\n",
       "      <td>JCI</td>\n",
       "      <td>0.594923</td>\n",
       "    </tr>\n",
       "    <tr>\n",
       "      <th>45</th>\n",
       "      <td>PNR</td>\n",
       "      <td>0.533730</td>\n",
       "    </tr>\n",
       "    <tr>\n",
       "      <th>56</th>\n",
       "      <td>TXT</td>\n",
       "      <td>0.506829</td>\n",
       "    </tr>\n",
       "  </tbody>\n",
       "</table>\n",
       "</div>"
      ],
      "text/plain": [
       "   Ticker       ROI\n",
       "24   GNRC  0.744968\n",
       "48    RHI  0.676882\n",
       "34    JCI  0.594923\n",
       "45    PNR  0.533730\n",
       "56    TXT  0.506829"
      ]
     },
     "execution_count": 95,
     "metadata": {},
     "output_type": "execute_result"
    }
   ],
   "source": [
    "industrial.sort_values(by=['ROI'], ascending=False).head(5)"
   ]
  },
  {
   "cell_type": "markdown",
   "metadata": {},
   "source": [
    "## Top Healthcare"
   ]
  },
  {
   "cell_type": "code",
   "execution_count": 82,
   "metadata": {},
   "outputs": [
    {
     "data": {
      "text/html": [
       "<div>\n",
       "<style scoped>\n",
       "    .dataframe tbody tr th:only-of-type {\n",
       "        vertical-align: middle;\n",
       "    }\n",
       "\n",
       "    .dataframe tbody tr th {\n",
       "        vertical-align: top;\n",
       "    }\n",
       "\n",
       "    .dataframe thead th {\n",
       "        text-align: right;\n",
       "    }\n",
       "</style>\n",
       "<table border=\"1\" class=\"dataframe\">\n",
       "  <thead>\n",
       "    <tr style=\"text-align: right;\">\n",
       "      <th></th>\n",
       "      <th>Ticker</th>\n",
       "      <th>ROI</th>\n",
       "    </tr>\n",
       "  </thead>\n",
       "  <tbody>\n",
       "    <tr>\n",
       "      <th>15</th>\n",
       "      <td>CTLT</td>\n",
       "      <td>2.366872</td>\n",
       "    </tr>\n",
       "    <tr>\n",
       "      <th>24</th>\n",
       "      <td>DXCM</td>\n",
       "      <td>2.209932</td>\n",
       "    </tr>\n",
       "    <tr>\n",
       "      <th>58</th>\n",
       "      <td>WST</td>\n",
       "      <td>1.962799</td>\n",
       "    </tr>\n",
       "    <tr>\n",
       "      <th>32</th>\n",
       "      <td>IDXX</td>\n",
       "      <td>1.739614</td>\n",
       "    </tr>\n",
       "    <tr>\n",
       "      <th>3</th>\n",
       "      <td>ALGN</td>\n",
       "      <td>1.643875</td>\n",
       "    </tr>\n",
       "  </tbody>\n",
       "</table>\n",
       "</div>"
      ],
      "text/plain": [
       "   Ticker       ROI\n",
       "15   CTLT  2.366872\n",
       "24   DXCM  2.209932\n",
       "58    WST  1.962799\n",
       "32   IDXX  1.739614\n",
       "3    ALGN  1.643875"
      ]
     },
     "execution_count": 82,
     "metadata": {},
     "output_type": "execute_result"
    }
   ],
   "source": [
    "health_care.sort_values(by=['ROI'], ascending=False).head(5)"
   ]
  },
  {
   "cell_type": "markdown",
   "metadata": {},
   "source": [
    "## Top Information Tech"
   ]
  },
  {
   "cell_type": "code",
   "execution_count": 83,
   "metadata": {},
   "outputs": [
    {
     "data": {
      "text/html": [
       "<div>\n",
       "<style scoped>\n",
       "    .dataframe tbody tr th:only-of-type {\n",
       "        vertical-align: middle;\n",
       "    }\n",
       "\n",
       "    .dataframe tbody tr th {\n",
       "        vertical-align: top;\n",
       "    }\n",
       "\n",
       "    .dataframe thead th {\n",
       "        text-align: right;\n",
       "    }\n",
       "</style>\n",
       "<table border=\"1\" class=\"dataframe\">\n",
       "  <thead>\n",
       "    <tr style=\"text-align: right;\">\n",
       "      <th></th>\n",
       "      <th>Ticker</th>\n",
       "      <th>ROI</th>\n",
       "    </tr>\n",
       "  </thead>\n",
       "  <tbody>\n",
       "    <tr>\n",
       "      <th>21</th>\n",
       "      <td>ENPH</td>\n",
       "      <td>34.664634</td>\n",
       "    </tr>\n",
       "    <tr>\n",
       "      <th>2</th>\n",
       "      <td>AMD</td>\n",
       "      <td>3.870420</td>\n",
       "    </tr>\n",
       "    <tr>\n",
       "      <th>47</th>\n",
       "      <td>NVDA</td>\n",
       "      <td>2.854826</td>\n",
       "    </tr>\n",
       "    <tr>\n",
       "      <th>61</th>\n",
       "      <td>TER</td>\n",
       "      <td>2.825196</td>\n",
       "    </tr>\n",
       "    <tr>\n",
       "      <th>50</th>\n",
       "      <td>PAYC</td>\n",
       "      <td>2.778196</td>\n",
       "    </tr>\n",
       "  </tbody>\n",
       "</table>\n",
       "</div>"
      ],
      "text/plain": [
       "   Ticker        ROI\n",
       "21   ENPH  34.664634\n",
       "2     AMD   3.870420\n",
       "47   NVDA   2.854826\n",
       "61    TER   2.825196\n",
       "50   PAYC   2.778196"
      ]
     },
     "execution_count": 83,
     "metadata": {},
     "output_type": "execute_result"
    }
   ],
   "source": [
    "it.sort_values(by=['ROI'], ascending=False).head(5)"
   ]
  },
  {
   "cell_type": "markdown",
   "metadata": {},
   "source": [
    "## Top Communications"
   ]
  },
  {
   "cell_type": "code",
   "execution_count": 84,
   "metadata": {},
   "outputs": [
    {
     "data": {
      "text/html": [
       "<div>\n",
       "<style scoped>\n",
       "    .dataframe tbody tr th:only-of-type {\n",
       "        vertical-align: middle;\n",
       "    }\n",
       "\n",
       "    .dataframe tbody tr th {\n",
       "        vertical-align: top;\n",
       "    }\n",
       "\n",
       "    .dataframe thead th {\n",
       "        text-align: right;\n",
       "    }\n",
       "</style>\n",
       "<table border=\"1\" class=\"dataframe\">\n",
       "  <thead>\n",
       "    <tr style=\"text-align: right;\">\n",
       "      <th></th>\n",
       "      <th>Ticker</th>\n",
       "      <th>ROI</th>\n",
       "    </tr>\n",
       "  </thead>\n",
       "  <tbody>\n",
       "    <tr>\n",
       "      <th>4</th>\n",
       "      <td>CHTR</td>\n",
       "      <td>1.297128</td>\n",
       "    </tr>\n",
       "    <tr>\n",
       "      <th>17</th>\n",
       "      <td>TMUS</td>\n",
       "      <td>1.066350</td>\n",
       "    </tr>\n",
       "    <tr>\n",
       "      <th>13</th>\n",
       "      <td>NFLX</td>\n",
       "      <td>1.020212</td>\n",
       "    </tr>\n",
       "    <tr>\n",
       "      <th>10</th>\n",
       "      <td>FB</td>\n",
       "      <td>1.013267</td>\n",
       "    </tr>\n",
       "    <tr>\n",
       "      <th>0</th>\n",
       "      <td>ATVI</td>\n",
       "      <td>1.003220</td>\n",
       "    </tr>\n",
       "    <tr>\n",
       "      <th>18</th>\n",
       "      <td>TTWO</td>\n",
       "      <td>0.997789</td>\n",
       "    </tr>\n",
       "    <tr>\n",
       "      <th>20</th>\n",
       "      <td>TWTR</td>\n",
       "      <td>0.879556</td>\n",
       "    </tr>\n",
       "    <tr>\n",
       "      <th>9</th>\n",
       "      <td>EA</td>\n",
       "      <td>0.789117</td>\n",
       "    </tr>\n",
       "    <tr>\n",
       "      <th>19</th>\n",
       "      <td>DIS</td>\n",
       "      <td>0.682979</td>\n",
       "    </tr>\n",
       "    <tr>\n",
       "      <th>2</th>\n",
       "      <td>GOOG</td>\n",
       "      <td>0.675078</td>\n",
       "    </tr>\n",
       "    <tr>\n",
       "      <th>1</th>\n",
       "      <td>GOOGL</td>\n",
       "      <td>0.661774</td>\n",
       "    </tr>\n",
       "    <tr>\n",
       "      <th>14</th>\n",
       "      <td>NWSA</td>\n",
       "      <td>0.627611</td>\n",
       "    </tr>\n",
       "    <tr>\n",
       "      <th>5</th>\n",
       "      <td>CMCSA</td>\n",
       "      <td>0.582041</td>\n",
       "    </tr>\n",
       "    <tr>\n",
       "      <th>15</th>\n",
       "      <td>NWS</td>\n",
       "      <td>0.578034</td>\n",
       "    </tr>\n",
       "    <tr>\n",
       "      <th>12</th>\n",
       "      <td>LYV</td>\n",
       "      <td>0.521010</td>\n",
       "    </tr>\n",
       "    <tr>\n",
       "      <th>11</th>\n",
       "      <td>IPG</td>\n",
       "      <td>0.278033</td>\n",
       "    </tr>\n",
       "    <tr>\n",
       "      <th>8</th>\n",
       "      <td>DISH</td>\n",
       "      <td>0.249614</td>\n",
       "    </tr>\n",
       "    <tr>\n",
       "      <th>6</th>\n",
       "      <td>DISCA</td>\n",
       "      <td>0.164925</td>\n",
       "    </tr>\n",
       "    <tr>\n",
       "      <th>21</th>\n",
       "      <td>VZ</td>\n",
       "      <td>0.140933</td>\n",
       "    </tr>\n",
       "    <tr>\n",
       "      <th>3</th>\n",
       "      <td>T</td>\n",
       "      <td>0.105643</td>\n",
       "    </tr>\n",
       "  </tbody>\n",
       "</table>\n",
       "</div>"
      ],
      "text/plain": [
       "   Ticker       ROI\n",
       "4    CHTR  1.297128\n",
       "17   TMUS  1.066350\n",
       "13   NFLX  1.020212\n",
       "10     FB  1.013267\n",
       "0    ATVI  1.003220\n",
       "18   TTWO  0.997789\n",
       "20   TWTR  0.879556\n",
       "9      EA  0.789117\n",
       "19    DIS  0.682979\n",
       "2    GOOG  0.675078\n",
       "1   GOOGL  0.661774\n",
       "14   NWSA  0.627611\n",
       "5   CMCSA  0.582041\n",
       "15    NWS  0.578034\n",
       "12    LYV  0.521010\n",
       "11    IPG  0.278033\n",
       "8    DISH  0.249614\n",
       "6   DISCA  0.164925\n",
       "21     VZ  0.140933\n",
       "3       T  0.105643"
      ]
     },
     "execution_count": 84,
     "metadata": {},
     "output_type": "execute_result"
    }
   ],
   "source": [
    "commun.sort_values(by=['ROI'], ascending=False).head(20)"
   ]
  },
  {
   "cell_type": "markdown",
   "metadata": {},
   "source": [
    "## Top Staples"
   ]
  },
  {
   "cell_type": "code",
   "execution_count": 85,
   "metadata": {},
   "outputs": [
    {
     "data": {
      "text/html": [
       "<div>\n",
       "<style scoped>\n",
       "    .dataframe tbody tr th:only-of-type {\n",
       "        vertical-align: middle;\n",
       "    }\n",
       "\n",
       "    .dataframe tbody tr th {\n",
       "        vertical-align: top;\n",
       "    }\n",
       "\n",
       "    .dataframe thead th {\n",
       "        text-align: right;\n",
       "    }\n",
       "</style>\n",
       "<table border=\"1\" class=\"dataframe\">\n",
       "  <thead>\n",
       "    <tr style=\"text-align: right;\">\n",
       "      <th></th>\n",
       "      <th>Ticker</th>\n",
       "      <th>ROI</th>\n",
       "    </tr>\n",
       "  </thead>\n",
       "  <tbody>\n",
       "    <tr>\n",
       "      <th>10</th>\n",
       "      <td>EL</td>\n",
       "      <td>1.051833</td>\n",
       "    </tr>\n",
       "    <tr>\n",
       "      <th>9</th>\n",
       "      <td>COST</td>\n",
       "      <td>0.923046</td>\n",
       "    </tr>\n",
       "    <tr>\n",
       "      <th>22</th>\n",
       "      <td>MNST</td>\n",
       "      <td>0.896637</td>\n",
       "    </tr>\n",
       "    <tr>\n",
       "      <th>7</th>\n",
       "      <td>CAG</td>\n",
       "      <td>0.801563</td>\n",
       "    </tr>\n",
       "    <tr>\n",
       "      <th>11</th>\n",
       "      <td>GIS</td>\n",
       "      <td>0.647460</td>\n",
       "    </tr>\n",
       "  </tbody>\n",
       "</table>\n",
       "</div>"
      ],
      "text/plain": [
       "   Ticker       ROI\n",
       "10     EL  1.051833\n",
       "9    COST  0.923046\n",
       "22   MNST  0.896637\n",
       "7     CAG  0.801563\n",
       "11    GIS  0.647460"
      ]
     },
     "execution_count": 85,
     "metadata": {},
     "output_type": "execute_result"
    }
   ],
   "source": [
    "staple.sort_values(by=['ROI'], ascending=False).head(5)"
   ]
  },
  {
   "cell_type": "markdown",
   "metadata": {},
   "source": [
    "## Top Discretionary"
   ]
  },
  {
   "cell_type": "code",
   "execution_count": 86,
   "metadata": {},
   "outputs": [
    {
     "data": {
      "text/html": [
       "<div>\n",
       "<style scoped>\n",
       "    .dataframe tbody tr th:only-of-type {\n",
       "        vertical-align: middle;\n",
       "    }\n",
       "\n",
       "    .dataframe tbody tr th {\n",
       "        vertical-align: top;\n",
       "    }\n",
       "\n",
       "    .dataframe thead th {\n",
       "        text-align: right;\n",
       "    }\n",
       "</style>\n",
       "<table border=\"1\" class=\"dataframe\">\n",
       "  <thead>\n",
       "    <tr style=\"text-align: right;\">\n",
       "      <th></th>\n",
       "      <th>Ticker</th>\n",
       "      <th>ROI</th>\n",
       "    </tr>\n",
       "  </thead>\n",
       "  <tbody>\n",
       "    <tr>\n",
       "      <th>52</th>\n",
       "      <td>TSLA</td>\n",
       "      <td>10.377370</td>\n",
       "    </tr>\n",
       "    <tr>\n",
       "      <th>42</th>\n",
       "      <td>PENN</td>\n",
       "      <td>3.440617</td>\n",
       "    </tr>\n",
       "    <tr>\n",
       "      <th>17</th>\n",
       "      <td>ETSY</td>\n",
       "      <td>2.785319</td>\n",
       "    </tr>\n",
       "    <tr>\n",
       "      <th>10</th>\n",
       "      <td>CMG</td>\n",
       "      <td>2.127729</td>\n",
       "    </tr>\n",
       "    <tr>\n",
       "      <th>51</th>\n",
       "      <td>TGT</td>\n",
       "      <td>1.797055</td>\n",
       "    </tr>\n",
       "  </tbody>\n",
       "</table>\n",
       "</div>"
      ],
      "text/plain": [
       "   Ticker        ROI\n",
       "52   TSLA  10.377370\n",
       "42   PENN   3.440617\n",
       "17   ETSY   2.785319\n",
       "10    CMG   2.127729\n",
       "51    TGT   1.797055"
      ]
     },
     "execution_count": 86,
     "metadata": {},
     "output_type": "execute_result"
    }
   ],
   "source": [
    "discretion.sort_values(by=['ROI'], ascending=False).head(5)"
   ]
  },
  {
   "cell_type": "markdown",
   "metadata": {},
   "source": [
    "## Top Utilities"
   ]
  },
  {
   "cell_type": "code",
   "execution_count": 87,
   "metadata": {},
   "outputs": [
    {
     "data": {
      "text/html": [
       "<div>\n",
       "<style scoped>\n",
       "    .dataframe tbody tr th:only-of-type {\n",
       "        vertical-align: middle;\n",
       "    }\n",
       "\n",
       "    .dataframe tbody tr th {\n",
       "        vertical-align: top;\n",
       "    }\n",
       "\n",
       "    .dataframe thead th {\n",
       "        text-align: right;\n",
       "    }\n",
       "</style>\n",
       "<table border=\"1\" class=\"dataframe\">\n",
       "  <thead>\n",
       "    <tr style=\"text-align: right;\">\n",
       "      <th></th>\n",
       "      <th>Ticker</th>\n",
       "      <th>ROI</th>\n",
       "    </tr>\n",
       "  </thead>\n",
       "  <tbody>\n",
       "    <tr>\n",
       "      <th>18</th>\n",
       "      <td>NEE</td>\n",
       "      <td>0.899435</td>\n",
       "    </tr>\n",
       "    <tr>\n",
       "      <th>4</th>\n",
       "      <td>AWK</td>\n",
       "      <td>0.787637</td>\n",
       "    </tr>\n",
       "    <tr>\n",
       "      <th>0</th>\n",
       "      <td>AES</td>\n",
       "      <td>0.770789</td>\n",
       "    </tr>\n",
       "    <tr>\n",
       "      <th>25</th>\n",
       "      <td>SO</td>\n",
       "      <td>0.533027</td>\n",
       "    </tr>\n",
       "    <tr>\n",
       "      <th>27</th>\n",
       "      <td>XEL</td>\n",
       "      <td>0.457615</td>\n",
       "    </tr>\n",
       "  </tbody>\n",
       "</table>\n",
       "</div>"
      ],
      "text/plain": [
       "   Ticker       ROI\n",
       "18    NEE  0.899435\n",
       "4     AWK  0.787637\n",
       "0     AES  0.770789\n",
       "25     SO  0.533027\n",
       "27    XEL  0.457615"
      ]
     },
     "execution_count": 87,
     "metadata": {},
     "output_type": "execute_result"
    }
   ],
   "source": [
    "utility.sort_values(by=['ROI'], ascending=False).head(5)"
   ]
  },
  {
   "cell_type": "markdown",
   "metadata": {},
   "source": [
    "## Top Finance"
   ]
  },
  {
   "cell_type": "code",
   "execution_count": 88,
   "metadata": {},
   "outputs": [
    {
     "data": {
      "text/html": [
       "<div>\n",
       "<style scoped>\n",
       "    .dataframe tbody tr th:only-of-type {\n",
       "        vertical-align: middle;\n",
       "    }\n",
       "\n",
       "    .dataframe tbody tr th {\n",
       "        vertical-align: top;\n",
       "    }\n",
       "\n",
       "    .dataframe thead th {\n",
       "        text-align: right;\n",
       "    }\n",
       "</style>\n",
       "<table border=\"1\" class=\"dataframe\">\n",
       "  <thead>\n",
       "    <tr style=\"text-align: right;\">\n",
       "      <th></th>\n",
       "      <th>Ticker</th>\n",
       "      <th>ROI</th>\n",
       "    </tr>\n",
       "  </thead>\n",
       "  <tbody>\n",
       "    <tr>\n",
       "      <th>39</th>\n",
       "      <td>MSCI</td>\n",
       "      <td>2.100301</td>\n",
       "    </tr>\n",
       "    <tr>\n",
       "      <th>34</th>\n",
       "      <td>MKTX</td>\n",
       "      <td>1.760462</td>\n",
       "    </tr>\n",
       "    <tr>\n",
       "      <th>37</th>\n",
       "      <td>MCO</td>\n",
       "      <td>1.098858</td>\n",
       "    </tr>\n",
       "    <tr>\n",
       "      <th>51</th>\n",
       "      <td>SIVB</td>\n",
       "      <td>0.980341</td>\n",
       "    </tr>\n",
       "    <tr>\n",
       "      <th>49</th>\n",
       "      <td>SPGI</td>\n",
       "      <td>0.970903</td>\n",
       "    </tr>\n",
       "  </tbody>\n",
       "</table>\n",
       "</div>"
      ],
      "text/plain": [
       "   Ticker       ROI\n",
       "39   MSCI  2.100301\n",
       "34   MKTX  1.760462\n",
       "37    MCO  1.098858\n",
       "51   SIVB  0.980341\n",
       "49   SPGI  0.970903"
      ]
     },
     "execution_count": 88,
     "metadata": {},
     "output_type": "execute_result"
    }
   ],
   "source": [
    "finance.sort_values(by=['ROI'], ascending=False).head(5)"
   ]
  },
  {
   "cell_type": "markdown",
   "metadata": {},
   "source": [
    "## Top Materials"
   ]
  },
  {
   "cell_type": "code",
   "execution_count": 89,
   "metadata": {},
   "outputs": [
    {
     "data": {
      "text/html": [
       "<div>\n",
       "<style scoped>\n",
       "    .dataframe tbody tr th:only-of-type {\n",
       "        vertical-align: middle;\n",
       "    }\n",
       "\n",
       "    .dataframe tbody tr th {\n",
       "        vertical-align: top;\n",
       "    }\n",
       "\n",
       "    .dataframe thead th {\n",
       "        text-align: right;\n",
       "    }\n",
       "</style>\n",
       "<table border=\"1\" class=\"dataframe\">\n",
       "  <thead>\n",
       "    <tr style=\"text-align: right;\">\n",
       "      <th></th>\n",
       "      <th>Ticker</th>\n",
       "      <th>ROI</th>\n",
       "    </tr>\n",
       "  </thead>\n",
       "  <tbody>\n",
       "    <tr>\n",
       "      <th>10</th>\n",
       "      <td>FCX</td>\n",
       "      <td>1.567112</td>\n",
       "    </tr>\n",
       "    <tr>\n",
       "      <th>3</th>\n",
       "      <td>BLL</td>\n",
       "      <td>1.119669</td>\n",
       "    </tr>\n",
       "    <tr>\n",
       "      <th>1</th>\n",
       "      <td>ALB</td>\n",
       "      <td>0.959996</td>\n",
       "    </tr>\n",
       "    <tr>\n",
       "      <th>21</th>\n",
       "      <td>SHW</td>\n",
       "      <td>0.907899</td>\n",
       "    </tr>\n",
       "    <tr>\n",
       "      <th>16</th>\n",
       "      <td>NEM</td>\n",
       "      <td>0.839971</td>\n",
       "    </tr>\n",
       "  </tbody>\n",
       "</table>\n",
       "</div>"
      ],
      "text/plain": [
       "   Ticker       ROI\n",
       "10    FCX  1.567112\n",
       "3     BLL  1.119669\n",
       "1     ALB  0.959996\n",
       "21    SHW  0.907899\n",
       "16    NEM  0.839971"
      ]
     },
     "execution_count": 89,
     "metadata": {},
     "output_type": "execute_result"
    }
   ],
   "source": [
    "material.sort_values(by=['ROI'], ascending=False).head(5)"
   ]
  },
  {
   "cell_type": "markdown",
   "metadata": {},
   "source": [
    "## Top Real Estate"
   ]
  },
  {
   "cell_type": "code",
   "execution_count": 90,
   "metadata": {},
   "outputs": [
    {
     "data": {
      "text/html": [
       "<div>\n",
       "<style scoped>\n",
       "    .dataframe tbody tr th:only-of-type {\n",
       "        vertical-align: middle;\n",
       "    }\n",
       "\n",
       "    .dataframe tbody tr th {\n",
       "        vertical-align: top;\n",
       "    }\n",
       "\n",
       "    .dataframe thead th {\n",
       "        text-align: right;\n",
       "    }\n",
       "</style>\n",
       "<table border=\"1\" class=\"dataframe\">\n",
       "  <thead>\n",
       "    <tr style=\"text-align: right;\">\n",
       "      <th></th>\n",
       "      <th>Ticker</th>\n",
       "      <th>ROI</th>\n",
       "    </tr>\n",
       "  </thead>\n",
       "  <tbody>\n",
       "    <tr>\n",
       "      <th>8</th>\n",
       "      <td>EQIX</td>\n",
       "      <td>1.112940</td>\n",
       "    </tr>\n",
       "    <tr>\n",
       "      <th>17</th>\n",
       "      <td>PLD</td>\n",
       "      <td>0.841405</td>\n",
       "    </tr>\n",
       "    <tr>\n",
       "      <th>21</th>\n",
       "      <td>SBAC</td>\n",
       "      <td>0.771372</td>\n",
       "    </tr>\n",
       "    <tr>\n",
       "      <th>0</th>\n",
       "      <td>ARE</td>\n",
       "      <td>0.688282</td>\n",
       "    </tr>\n",
       "    <tr>\n",
       "      <th>7</th>\n",
       "      <td>DRE</td>\n",
       "      <td>0.684079</td>\n",
       "    </tr>\n",
       "  </tbody>\n",
       "</table>\n",
       "</div>"
      ],
      "text/plain": [
       "   Ticker       ROI\n",
       "8    EQIX  1.112940\n",
       "17    PLD  0.841405\n",
       "21   SBAC  0.771372\n",
       "0     ARE  0.688282\n",
       "7     DRE  0.684079"
      ]
     },
     "execution_count": 90,
     "metadata": {},
     "output_type": "execute_result"
    }
   ],
   "source": [
    "restate.sort_values(by=['ROI'], ascending=False).head(5)"
   ]
  },
  {
   "cell_type": "markdown",
   "metadata": {},
   "source": [
    "## Top Energy"
   ]
  },
  {
   "cell_type": "code",
   "execution_count": 108,
   "metadata": {},
   "outputs": [
    {
     "data": {
      "text/html": [
       "<div>\n",
       "<style scoped>\n",
       "    .dataframe tbody tr th:only-of-type {\n",
       "        vertical-align: middle;\n",
       "    }\n",
       "\n",
       "    .dataframe tbody tr th {\n",
       "        vertical-align: top;\n",
       "    }\n",
       "\n",
       "    .dataframe thead th {\n",
       "        text-align: right;\n",
       "    }\n",
       "</style>\n",
       "<table border=\"1\" class=\"dataframe\">\n",
       "  <thead>\n",
       "    <tr style=\"text-align: right;\">\n",
       "      <th></th>\n",
       "      <th>Ticker</th>\n",
       "      <th>ROI</th>\n",
       "    </tr>\n",
       "  </thead>\n",
       "  <tbody>\n",
       "    <tr>\n",
       "      <th>4</th>\n",
       "      <td>DVN</td>\n",
       "      <td>0.608962</td>\n",
       "    </tr>\n",
       "    <tr>\n",
       "      <th>11</th>\n",
       "      <td>MRO</td>\n",
       "      <td>0.580850</td>\n",
       "    </tr>\n",
       "    <tr>\n",
       "      <th>5</th>\n",
       "      <td>FANG</td>\n",
       "      <td>0.410011</td>\n",
       "    </tr>\n",
       "    <tr>\n",
       "      <th>15</th>\n",
       "      <td>OKE</td>\n",
       "      <td>0.392985</td>\n",
       "    </tr>\n",
       "    <tr>\n",
       "      <th>12</th>\n",
       "      <td>MPC</td>\n",
       "      <td>0.372723</td>\n",
       "    </tr>\n",
       "  </tbody>\n",
       "</table>\n",
       "</div>"
      ],
      "text/plain": [
       "   Ticker       ROI\n",
       "4     DVN  0.608962\n",
       "11    MRO  0.580850\n",
       "5    FANG  0.410011\n",
       "15    OKE  0.392985\n",
       "12    MPC  0.372723"
      ]
     },
     "execution_count": 108,
     "metadata": {},
     "output_type": "execute_result"
    }
   ],
   "source": [
    "energy.sort_values(by=['ROI'], ascending=False).head(5)"
   ]
  },
  {
   "cell_type": "markdown",
   "metadata": {},
   "source": [
    "## Portfolio List"
   ]
  },
  {
   "cell_type": "code",
   "execution_count": 96,
   "metadata": {},
   "outputs": [],
   "source": [
    "port_list = [\"GNRC\", \"DXCM\", \"AMD\", \"NFLX\", \"COST\", \"TGT\", \"AES\", \"MSCI\", \n",
    "             \"NEM\", \"SBAC\", \"HES\"]"
   ]
  },
  {
   "cell_type": "markdown",
   "metadata": {},
   "source": [
    "## Check for Correlation"
   ]
  },
  {
   "cell_type": "code",
   "execution_count": 97,
   "metadata": {},
   "outputs": [
    {
     "data": {
      "text/html": [
       "<div>\n",
       "<style scoped>\n",
       "    .dataframe tbody tr th:only-of-type {\n",
       "        vertical-align: middle;\n",
       "    }\n",
       "\n",
       "    .dataframe tbody tr th {\n",
       "        vertical-align: top;\n",
       "    }\n",
       "\n",
       "    .dataframe thead th {\n",
       "        text-align: right;\n",
       "    }\n",
       "</style>\n",
       "<table border=\"1\" class=\"dataframe\">\n",
       "  <thead>\n",
       "    <tr style=\"text-align: right;\">\n",
       "      <th></th>\n",
       "      <th>GNRC</th>\n",
       "      <th>DXCM</th>\n",
       "      <th>AMD</th>\n",
       "      <th>NFLX</th>\n",
       "      <th>COST</th>\n",
       "      <th>TGT</th>\n",
       "      <th>AES</th>\n",
       "      <th>MSCI</th>\n",
       "      <th>NEM</th>\n",
       "      <th>SBAC</th>\n",
       "      <th>HES</th>\n",
       "    </tr>\n",
       "  </thead>\n",
       "  <tbody>\n",
       "    <tr>\n",
       "      <th>GNRC</th>\n",
       "      <td>1.000000</td>\n",
       "      <td>0.289526</td>\n",
       "      <td>0.395187</td>\n",
       "      <td>0.340732</td>\n",
       "      <td>0.465304</td>\n",
       "      <td>0.338411</td>\n",
       "      <td>0.433325</td>\n",
       "      <td>0.515742</td>\n",
       "      <td>0.250697</td>\n",
       "      <td>0.444762</td>\n",
       "      <td>0.426870</td>\n",
       "    </tr>\n",
       "    <tr>\n",
       "      <th>DXCM</th>\n",
       "      <td>0.289526</td>\n",
       "      <td>1.000000</td>\n",
       "      <td>0.328297</td>\n",
       "      <td>0.307643</td>\n",
       "      <td>0.265366</td>\n",
       "      <td>0.196806</td>\n",
       "      <td>0.218423</td>\n",
       "      <td>0.469509</td>\n",
       "      <td>0.147494</td>\n",
       "      <td>0.243462</td>\n",
       "      <td>0.243240</td>\n",
       "    </tr>\n",
       "    <tr>\n",
       "      <th>AMD</th>\n",
       "      <td>0.395187</td>\n",
       "      <td>0.328297</td>\n",
       "      <td>1.000000</td>\n",
       "      <td>0.459581</td>\n",
       "      <td>0.394315</td>\n",
       "      <td>0.340573</td>\n",
       "      <td>0.258974</td>\n",
       "      <td>0.485819</td>\n",
       "      <td>0.191355</td>\n",
       "      <td>0.294906</td>\n",
       "      <td>0.288337</td>\n",
       "    </tr>\n",
       "    <tr>\n",
       "      <th>NFLX</th>\n",
       "      <td>0.340732</td>\n",
       "      <td>0.307643</td>\n",
       "      <td>0.459581</td>\n",
       "      <td>1.000000</td>\n",
       "      <td>0.430674</td>\n",
       "      <td>0.259971</td>\n",
       "      <td>0.204159</td>\n",
       "      <td>0.449132</td>\n",
       "      <td>0.103639</td>\n",
       "      <td>0.216935</td>\n",
       "      <td>0.217857</td>\n",
       "    </tr>\n",
       "    <tr>\n",
       "      <th>COST</th>\n",
       "      <td>0.465304</td>\n",
       "      <td>0.265366</td>\n",
       "      <td>0.394315</td>\n",
       "      <td>0.430674</td>\n",
       "      <td>1.000000</td>\n",
       "      <td>0.500433</td>\n",
       "      <td>0.319886</td>\n",
       "      <td>0.482322</td>\n",
       "      <td>0.183141</td>\n",
       "      <td>0.455022</td>\n",
       "      <td>0.234526</td>\n",
       "    </tr>\n",
       "    <tr>\n",
       "      <th>TGT</th>\n",
       "      <td>0.338411</td>\n",
       "      <td>0.196806</td>\n",
       "      <td>0.340573</td>\n",
       "      <td>0.259971</td>\n",
       "      <td>0.500433</td>\n",
       "      <td>1.000000</td>\n",
       "      <td>0.305004</td>\n",
       "      <td>0.325772</td>\n",
       "      <td>0.092757</td>\n",
       "      <td>0.304365</td>\n",
       "      <td>0.245106</td>\n",
       "    </tr>\n",
       "    <tr>\n",
       "      <th>AES</th>\n",
       "      <td>0.433325</td>\n",
       "      <td>0.218423</td>\n",
       "      <td>0.258974</td>\n",
       "      <td>0.204159</td>\n",
       "      <td>0.319886</td>\n",
       "      <td>0.305004</td>\n",
       "      <td>1.000000</td>\n",
       "      <td>0.483399</td>\n",
       "      <td>0.176918</td>\n",
       "      <td>0.333249</td>\n",
       "      <td>0.470414</td>\n",
       "    </tr>\n",
       "    <tr>\n",
       "      <th>MSCI</th>\n",
       "      <td>0.515742</td>\n",
       "      <td>0.469509</td>\n",
       "      <td>0.485819</td>\n",
       "      <td>0.449132</td>\n",
       "      <td>0.482322</td>\n",
       "      <td>0.325772</td>\n",
       "      <td>0.483399</td>\n",
       "      <td>1.000000</td>\n",
       "      <td>0.258932</td>\n",
       "      <td>0.498281</td>\n",
       "      <td>0.411647</td>\n",
       "    </tr>\n",
       "    <tr>\n",
       "      <th>NEM</th>\n",
       "      <td>0.250697</td>\n",
       "      <td>0.147494</td>\n",
       "      <td>0.191355</td>\n",
       "      <td>0.103639</td>\n",
       "      <td>0.183141</td>\n",
       "      <td>0.092757</td>\n",
       "      <td>0.176918</td>\n",
       "      <td>0.258932</td>\n",
       "      <td>1.000000</td>\n",
       "      <td>0.275681</td>\n",
       "      <td>0.149387</td>\n",
       "    </tr>\n",
       "    <tr>\n",
       "      <th>SBAC</th>\n",
       "      <td>0.444762</td>\n",
       "      <td>0.243462</td>\n",
       "      <td>0.294906</td>\n",
       "      <td>0.216935</td>\n",
       "      <td>0.455022</td>\n",
       "      <td>0.304365</td>\n",
       "      <td>0.333249</td>\n",
       "      <td>0.498281</td>\n",
       "      <td>0.275681</td>\n",
       "      <td>1.000000</td>\n",
       "      <td>0.273548</td>\n",
       "    </tr>\n",
       "    <tr>\n",
       "      <th>HES</th>\n",
       "      <td>0.426870</td>\n",
       "      <td>0.243240</td>\n",
       "      <td>0.288337</td>\n",
       "      <td>0.217857</td>\n",
       "      <td>0.234526</td>\n",
       "      <td>0.245106</td>\n",
       "      <td>0.470414</td>\n",
       "      <td>0.411647</td>\n",
       "      <td>0.149387</td>\n",
       "      <td>0.273548</td>\n",
       "      <td>1.000000</td>\n",
       "    </tr>\n",
       "  </tbody>\n",
       "</table>\n",
       "</div>"
      ],
      "text/plain": [
       "          GNRC      DXCM       AMD      NFLX      COST       TGT       AES  \\\n",
       "GNRC  1.000000  0.289526  0.395187  0.340732  0.465304  0.338411  0.433325   \n",
       "DXCM  0.289526  1.000000  0.328297  0.307643  0.265366  0.196806  0.218423   \n",
       "AMD   0.395187  0.328297  1.000000  0.459581  0.394315  0.340573  0.258974   \n",
       "NFLX  0.340732  0.307643  0.459581  1.000000  0.430674  0.259971  0.204159   \n",
       "COST  0.465304  0.265366  0.394315  0.430674  1.000000  0.500433  0.319886   \n",
       "TGT   0.338411  0.196806  0.340573  0.259971  0.500433  1.000000  0.305004   \n",
       "AES   0.433325  0.218423  0.258974  0.204159  0.319886  0.305004  1.000000   \n",
       "MSCI  0.515742  0.469509  0.485819  0.449132  0.482322  0.325772  0.483399   \n",
       "NEM   0.250697  0.147494  0.191355  0.103639  0.183141  0.092757  0.176918   \n",
       "SBAC  0.444762  0.243462  0.294906  0.216935  0.455022  0.304365  0.333249   \n",
       "HES   0.426870  0.243240  0.288337  0.217857  0.234526  0.245106  0.470414   \n",
       "\n",
       "          MSCI       NEM      SBAC       HES  \n",
       "GNRC  0.515742  0.250697  0.444762  0.426870  \n",
       "DXCM  0.469509  0.147494  0.243462  0.243240  \n",
       "AMD   0.485819  0.191355  0.294906  0.288337  \n",
       "NFLX  0.449132  0.103639  0.216935  0.217857  \n",
       "COST  0.482322  0.183141  0.455022  0.234526  \n",
       "TGT   0.325772  0.092757  0.304365  0.245106  \n",
       "AES   0.483399  0.176918  0.333249  0.470414  \n",
       "MSCI  1.000000  0.258932  0.498281  0.411647  \n",
       "NEM   0.258932  1.000000  0.275681  0.149387  \n",
       "SBAC  0.498281  0.275681  1.000000  0.273548  \n",
       "HES   0.411647  0.149387  0.273548  1.000000  "
      ]
     },
     "execution_count": 97,
     "metadata": {},
     "output_type": "execute_result"
    }
   ],
   "source": [
    "mult_df = merge_df_by_column_name('daily_return',  '2018-01-01', \n",
    "                                  '2020-12-31', *port_list)\n",
    "mult_df\n",
    "\n",
    "# Generate a Correlation Matrix\n",
    "mult_df.corr()"
   ]
  },
  {
   "cell_type": "code",
   "execution_count": 98,
   "metadata": {},
   "outputs": [
    {
     "data": {
      "text/plain": [
       "756"
      ]
     },
     "execution_count": 98,
     "metadata": {},
     "output_type": "execute_result"
    }
   ],
   "source": [
    "# Get the number of samples\n",
    "days = len(mult_df.index)\n",
    "days"
   ]
  },
  {
   "cell_type": "code",
   "execution_count": 99,
   "metadata": {},
   "outputs": [],
   "source": [
    "def get_stock_price_on_date(ticker, date):\n",
    "    df = get_df_from_csv(ticker)\n",
    "    df = df.set_index(['Date'])\n",
    "    return df.loc[date,'Adj Close']"
   ]
  },
  {
   "cell_type": "code",
   "execution_count": 102,
   "metadata": {},
   "outputs": [
    {
     "name": "stdout",
     "output_type": "stream",
     "text": [
      "GNRC $ 224.5599975585937\n",
      "DXCM $ 357.739990234375\n",
      "AMD $ 92.3000030517578\n",
      "NFLX $ 522.8599853515625\n",
      "COST $ 377.8815307617188\n",
      "TGT $ 175.82254028320312\n",
      "AES $ 22.82006454467773\n",
      "MSCI $ 435.3967590332031\n",
      "NEM $ 62.0733871459961\n",
      "SBAC $ 274.4242248535156\n",
      "HES $ 52.46865844726562\n"
     ]
    },
    {
     "data": {
      "text/plain": [
       "4905.980000000001"
      ]
     },
     "execution_count": 102,
     "metadata": {},
     "output_type": "execute_result"
    }
   ],
   "source": [
    "# 01-04-2021 is the 1st date in 2021\n",
    "print(\"GNRC $\", get_stock_price_on_date('GNRC', '2021-01-04')) # 2 449.12\n",
    "print(\"DXCM $\", get_stock_price_on_date('DXCM', '2021-01-04')) # 1 357.74\n",
    "print(\"AMD $\", get_stock_price_on_date('AMD', '2021-01-04')) # 4 369.2\n",
    "print(\"NFLX $\", get_stock_price_on_date('NFLX', '2021-01-04')) # 1 522.86\n",
    "print(\"COST $\", get_stock_price_on_date('COST', '2021-01-04')) # 1 377.88\n",
    "print(\"TGT $\", get_stock_price_on_date('TGT', '2021-01-04')) # 3 527.46\n",
    "print(\"AES $\", get_stock_price_on_date('AES', '2021-01-04')) # 18 410.76\n",
    "print(\"MSCI $\", get_stock_price_on_date('MSCI', '2021-01-04')) # 1 435.40\n",
    "print(\"NEM $\", get_stock_price_on_date('NEM', '2021-01-04')) # 7 434.49\n",
    "print(\"SBAC $\", get_stock_price_on_date('SBAC', '2021-01-04')) # 2 548.84\n",
    "print(\"HES $\", get_stock_price_on_date('HES', '2021-01-04')) # 9 472.23\n",
    "\n",
    "# Total Investment\n",
    "tot_inv = 449.12 + 357.74 + 369.2 + 522.86 + 377.88 + 527.46 + 410.76 + \\\n",
    "435.40 + 434.49 + 548.84 + 472.23\n",
    "tot_inv"
   ]
  },
  {
   "cell_type": "markdown",
   "metadata": {},
   "source": [
    "## Returns Portfolio Weight"
   ]
  },
  {
   "cell_type": "code",
   "execution_count": 103,
   "metadata": {},
   "outputs": [],
   "source": [
    "def get_port_weight(price, total):\n",
    "    return price / total"
   ]
  },
  {
   "cell_type": "code",
   "execution_count": 104,
   "metadata": {},
   "outputs": [
    {
     "name": "stdout",
     "output_type": "stream",
     "text": [
      "Portfolio Covariance : 0.18221033377623255\n",
      "GNRC Var : 0.43946543607242505\n",
      "NFLX Var : 0.547725362304338\n"
     ]
    }
   ],
   "source": [
    "gnrc_w = get_port_weight(449.12, 4905.98)\n",
    "dxcm_w = get_port_weight(357.74, 4905.98)\n",
    "amd_w = get_port_weight(369.2, 4905.98)\n",
    "nflx_w = get_port_weight(522.86, 4905.98)\n",
    "cost_w = get_port_weight(377.88, 4905.98)\n",
    "tgt_w = get_port_weight(527.46, 4905.98)\n",
    "aes_w = get_port_weight(410.76, 4905.98)\n",
    "msci_w = get_port_weight(435.40, 4905.98)\n",
    "nem_w = get_port_weight(434.49, 4905.98)\n",
    "sbac_w = get_port_weight(548.84, 4905.98)\n",
    "hes_w = get_port_weight(472.23, 4905.98)\n",
    "\n",
    "wts = np.array([gnrc_w, dxcm_w, amd_w, nflx_w, cost_w, tgt_w, aes_w, msci_w, \\\n",
    "                nem_w, sbac_w, hes_w])\n",
    "wts\n",
    "\n",
    "port_var = np.dot(wts.T, np.dot(mult_df.cov() * 756, wts))\n",
    "print(\"Portfolio Covariance :\", port_var)\n",
    "print(\"GNRC Var :\", mult_df[\"GNRC\"].var() * 756)\n",
    "print(\"NFLX Var :\", mult_df[\"NFLX\"].var() * 756)"
   ]
  },
  {
   "cell_type": "markdown",
   "metadata": {},
   "source": [
    "## Different Types of Risk"
   ]
  },
  {
   "cell_type": "markdown",
   "metadata": {},
   "source": [
    "There is risk that you can limit through diversifaction (Idiosyncratic) and risk that you can't (Systematic). Systematic risk \n",
    "is caused by unforeseen conditions such as wars, recessions, natural disasters, dramatic changes in consumer actions, etc.\n",
    "\n",
    "Data tells us that if we make a portfolio made up of approximately 25 stocks that aren't correlated that we can dramatically\n",
    "lower idiosyncratic risk. That is one reason why people invest in indexes. You can further lower risk by investing in\n",
    "other countries, bonds and cash."
   ]
  },
  {
   "cell_type": "markdown",
   "metadata": {},
   "source": [
    "## Diversifiable Risk"
   ]
  },
  {
   "cell_type": "code",
   "execution_count": 105,
   "metadata": {},
   "outputs": [],
   "source": [
    "# Diversifiable Risk = Portfolio Variance - All Weighted Variances\n",
    "def calc_diversifiable_risk(df, tickers, weights):\n",
    "    # Gets number of days\n",
    "    days = len(mult_df.index)\n",
    "    # Calculate covariance of portfolio\n",
    "    port_covar = np.dot(weights.T, np.dot(df.cov() * days, weights)) \n",
    "    \n",
    "    i = 0\n",
    "    while i < len(tickers):\n",
    "        wt_sq = weights[i] ** 2\n",
    "        stk_var = mult_df[tickers[i]].var() * days\n",
    "        wt_var = wt_sq * stk_var\n",
    "        port_covar = port_covar - wt_var\n",
    "        i += 1\n",
    "    return port_covar"
   ]
  },
  {
   "cell_type": "code",
   "execution_count": 106,
   "metadata": {},
   "outputs": [
    {
     "data": {
      "text/plain": [
       "0.13626654511704744"
      ]
     },
     "execution_count": 106,
     "metadata": {},
     "output_type": "execute_result"
    }
   ],
   "source": [
    "div_risk = calc_diversifiable_risk(mult_df, port_list, wts)\n",
    "div_risk"
   ]
  },
  {
   "cell_type": "markdown",
   "metadata": {},
   "source": [
    "## Find Risk that Can't be Diversified"
   ]
  },
  {
   "cell_type": "code",
   "execution_count": 107,
   "metadata": {},
   "outputs": [
    {
     "name": "stdout",
     "output_type": "stream",
     "text": [
      "Systematic Risk : 0.04594378865918511\n"
     ]
    }
   ],
   "source": [
    "print(\"Systematic Risk :\", (port_var - div_risk))"
   ]
  }
 ],
 "metadata": {
  "kernelspec": {
   "display_name": "Python 3",
   "language": "python",
   "name": "python3"
  },
  "language_info": {
   "codemirror_mode": {
    "name": "ipython",
    "version": 3
   },
   "file_extension": ".py",
   "mimetype": "text/x-python",
   "name": "python",
   "nbconvert_exporter": "python",
   "pygments_lexer": "ipython3",
   "version": "3.9.7"
  }
 },
 "nbformat": 4,
 "nbformat_minor": 4
}
